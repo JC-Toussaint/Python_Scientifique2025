{
 "cells": [
  {
   "attachments": {},
   "cell_type": "markdown",
   "metadata": {},
   "source": [
    "# Buffer circulaire (ring buffer)\n",
    "\n",
    "Un buffer circulaire est une structure de données utilisant une zone mémoire de taille fixe et dont le début et la fin sont connectés. On peut conceptuellement les représenter par un cercle.\n",
    "Les buffers circulaires sont souvent utilisés pour gérer des flux de données ou pour implémenter un comportement de type FIFO. \n",
    "\n",
    "Définir une classe __RingBuffer__ permettant de stocker __NbSamples__ dans un tableau numpy __samples__.\n",
    "La valeur par défaut de __NbSamples__  est 10.\n"
   ]
  },
  {
   "cell_type": "code",
   "execution_count": 1,
   "metadata": {},
   "outputs": [],
   "source": [
    "import numpy as npy\n",
    "\n",
    "class RingBuffer:\n",
    "    def __init__(self, NbSamples=10):\n",
    "        self.NbSamples = NbSamples\n",
    "        self.pointer = 0\n",
    "        self.samples=npy.zeros((NbSamples,), dtype=npy.float64)\n",
    "        \n",
    "        \n",
    "    def update(self, newsample):\n",
    "        self.samples[self.pointer]= newsample\n",
    "        self.pointer  += 1 \n",
    "        self.pointer  %= self.NbSamples\n",
    "        \n",
    "    def __repr__(self): \n",
    "        return npy.array_repr(self.samples, precision=6, suppress_small=True)"
   ]
  },
  {
   "cell_type": "markdown",
   "metadata": {},
   "source": [
    "## Tests \n",
    "Procéder à quelques tests. Afficher les attributs d'un objet avec la fonction magique __\\_\\_dict\\_\\___"
   ]
  },
  {
   "cell_type": "code",
   "execution_count": 3,
   "metadata": {},
   "outputs": [
    {
     "name": "stdout",
     "output_type": "stream",
     "text": [
      "pointer  2\n",
      "{'NbSamples': 10, 'pointer': 2, 'samples': array([1., 2., 0., 0., 0., 0., 0., 0., 0., 0.])}\n",
      "[1. 2. 0. 0. 0. 0. 0. 0. 0. 0.]\n",
      "10\n"
     ]
    }
   ],
   "source": [
    "ring=RingBuffer(10)\n",
    "ring.update(1)\n",
    "ring.update(2)\n",
    "print('pointer ', ring.pointer)\n",
    "print(ring.__dict__)\n",
    "print(ring.samples)\n",
    "print(ring.__dict__['NbSamples'])"
   ]
  },
  {
   "cell_type": "markdown",
   "metadata": {},
   "source": [
    "### petit bout de code à comprendre"
   ]
  },
  {
   "cell_type": "code",
   "execution_count": 7,
   "metadata": {},
   "outputs": [
    {
     "name": "stdout",
     "output_type": "stream",
     "text": [
      "[2 3 4 5 6 7 8 9 0 1]\n"
     ]
    },
    {
     "data": {
      "text/plain": [
       "array([0., 0., 0., 0., 0., 0., 0., 0., 1., 2.])"
      ]
     },
     "execution_count": 7,
     "metadata": {},
     "output_type": "execute_result"
    }
   ],
   "source": [
    "arr=npy.arange(ring.pointer, ring.pointer + ring.NbSamples) % ring.NbSamples\n",
    "print(arr)\n",
    "ring.samples[arr]"
   ]
  },
  {
   "cell_type": "markdown",
   "metadata": {},
   "source": [
    "## Sécurisation des données\n",
    "Restreindre l'accès aux données de votre classe\n",
    "\n",
    "La fonction publique __NbSamples__ retourne le nombre d'échantillons. Montrer que l'utilisation d'un __property__\n",
    "permet de simplifier son appel.\n",
    "\n",
    "La surcharge de l'opérateur [ ] se fait grâce à la fonction magique __\\_\\_getitem\\_\\___(self, ix)\n",
    "qui retournera la valeur de l'échantillon d'indice relatif ix par rapport au pointeur courant pointer.\n",
    "\n",
    "La fonction publique __samples__ retourne les valeurs du tableau \\_\\_samples[ix] avec ix dans [pointer, pointer+ NbSamples] (voir code ci-dessus). Montrer que l'utilisation d'un __property__\n",
    "permet de simplifier son appel.\n"
   ]
  },
  {
   "cell_type": "code",
   "execution_count": 8,
   "metadata": {},
   "outputs": [],
   "source": [
    "import random\n",
    "import math\n",
    "import numpy as npy\n",
    "\n",
    "\n",
    "class RingBuffer:\n",
    "    def __init__(self, NbSamples=10):\n",
    "        self.__NbSamples = NbSamples\n",
    "        self.__pointer = 0\n",
    "        self.__samples=npy.zeros((NbSamples,), dtype=float)\n",
    "    \n",
    "    def update(self, newsample):\n",
    "        self.__samples[self.__pointer]= newsample\n",
    "        self.__pointer  += 1 \n",
    "        self.__pointer  %= self.__NbSamples       \n",
    "\n",
    "    @property  # getter \n",
    "    def NbSamples(self):\n",
    "        return self.__NbSamples\n",
    "    \n",
    "    def __getitem__(self, ix):\n",
    "        \"\"\"index relative to current value of pointer\n",
    "        \"\"\"\n",
    "        pointer = (self.__pointer + ix) % self.__NbSamples\n",
    "        return self.__samples[pointer]\n",
    "    \n",
    "    def __repr__(self):\n",
    "        return npy.array_repr(self.__samples, precision=6, suppress_small=True)\n",
    "    \n",
    "    @property\n",
    "    def samples(self):\n",
    "        ix = npy.arange(self.__pointer, self.__pointer + self.__NbSamples) % self.__NbSamples\n",
    "        return self.__samples[ix]"
   ]
  },
  {
   "cell_type": "code",
   "execution_count": 9,
   "metadata": {},
   "outputs": [
    {
     "name": "stdout",
     "output_type": "stream",
     "text": [
      "1.0 2.0 0.0 0.0\n",
      "array([1., 2., 0., 0., 0., 0., 0., 0., 0., 0.])\n",
      "[0. 0. 0. 0. 0. 0. 0. 0. 1. 2.]\n"
     ]
    }
   ],
   "source": [
    "ring=RingBuffer(10)\n",
    "ring.update(1)\n",
    "ring.update(2)\n",
    "print(ring[-2], ring[-1], ring[0], ring[1])\n",
    "print(ring)\n",
    "print(ring.samples)"
   ]
  },
  {
   "cell_type": "markdown",
   "metadata": {},
   "source": [
    "# FIR  (Finite Impulse Filter)\n",
    "\n",
    "Notre but est de définir une classe FIR_filter permettant de calculer la moyenne pondérée d'un signal temporel sur une fenêtre glissante. Les poids dont la somme vaut 1 seront donnés en argument lorsque de la construction d'une instance de la classe FIR_filter, sous la forme d'un numpy array appelé weights. Il sera généré à l'extérieur de la classe\n",
    "\n",
    "weights=npy.array([1/(x+1) for x in range(16)])    \n",
    "weights /= weights.sum()\n",
    "\n",
    "__ATTENTION__ weights[0] pondera le dernier échantillon entré, weights[1] le précédent, ainsi de suite.\n",
    "\n",
    "* Bien avant de définir le constructeur, __en utilisant un property__, on vous demande de définir \n",
    "le getter __weight(self)__ set le setter __weights(self, x)__. \n",
    "Le getter retournera le tableau des poids retournés et le setter initialisera les poids à partir d'un tableau\n",
    "passé en argument (Ne pas oublier de le retourner). Il mettra à jour la donnée privée \\_\\_NbSamples\\_\\_ avec la taille\n",
    "de ce tableau.\n",
    "\n",
    "* Définir ensuite le constructeur \\_\\_init()\\_\\_, on utilisera une instance de la classe RingBuffer pour stocker le signal échantillonné.\n",
    "\n",
    "* Définir une fonction publique __insert()__ qui permettra d'insérer un nouvel échantillon dans le buffer circulaire et qui calculera la moyenne pondérée des échantillons.\n",
    "\n"
   ]
  },
  {
   "cell_type": "code",
   "execution_count": 19,
   "metadata": {},
   "outputs": [],
   "source": [
    "class FIR_filter:\n",
    "    def __init__(self, data):\n",
    "        self.weights  = data # appel le setter et calcule __NbSamples\n",
    "        self.__buffer   = RingBuffer(self.__NbSamples)\n",
    "\n",
    "    @property  # getter \n",
    "    def NbSamples(self):\n",
    "        return self.__NbSamples\n",
    "    \n",
    "    @property\n",
    "    def weights(self):\n",
    "        return self.__weights[::-1]\n",
    "    \n",
    "    @weights.setter\n",
    "    def weights(self, x):\n",
    "        print('setter')\n",
    "        self.__weights = npy.array(x[::-1], dtype=npy.float64)\n",
    "        self.__NbSamples = self.__weights.shape[0]\n",
    "        \n",
    "    def insert(self, x):   \n",
    "        self.__buffer.update(x)\n",
    "        return (self.weights * self.__buffer.samples).sum()\n",
    "        # return (self.__weights[::-1] * self.__buffer.samples[-self.__NbSamples:]).sum() # equivalent"
   ]
  },
  {
   "cell_type": "code",
   "execution_count": 20,
   "metadata": {},
   "outputs": [
    {
     "name": "stdout",
     "output_type": "stream",
     "text": [
      "setter\n",
      "weights :  [0.29579419 0.1478971  0.09859806 0.07394855 0.05915884 0.04929903\n",
      " 0.04225631 0.03697427 0.03286602 0.02957942 0.02689038 0.02464952\n",
      " 0.0227534  0.02112816 0.01971961 0.01848714]\n",
      "------------\n"
     ]
    },
    {
     "data": {
      "text/plain": [
       "<matplotlib.legend.Legend at 0x1eb15470520>"
      ]
     },
     "execution_count": 20,
     "metadata": {},
     "output_type": "execute_result"
    },
    {
     "data": {
      "image/png": "[encoded data removed]",
      "text/plain": [
       "<Figure size 432x288 with 1 Axes>"
      ]
     },
     "metadata": {
      "needs_background": "light"
     },
     "output_type": "display_data"
    }
   ],
   "source": [
    "import matplotlib.pyplot as plt\n",
    "\n",
    "weights=npy.array([1/(x+1) for x in range(16)])    \n",
    "weights /= weights.sum()\n",
    "    \n",
    "fir = FIR_filter(weights)\n",
    "print(\"weights : \", fir.weights)\n",
    "print('------------')\n",
    "\n",
    "r=random.seed(1452)\n",
    "  \n",
    "raw_data=[]\n",
    "fir_data=[]\n",
    "time =[]\n",
    "\n",
    "NT=2000\n",
    "T =100 # period\n",
    "dt=0.5    # time step\n",
    "for nt in range(NT):\n",
    "    t = nt*dt\n",
    "    r=random.uniform(-1., 1.)\n",
    "    s=math.sin(2*math.pi/T*t)+r\n",
    "    sf=fir.insert(s)\n",
    "    time.append(t)\n",
    "    raw_data.append(s)\n",
    "    fir_data.append(sf)\n",
    "\n",
    "plt.figure()\n",
    "plt.plot(time, raw_data, 'r-')\n",
    "plt.plot(time, fir_data, 'b-')\n",
    "plt.draw()\n",
    "plt.legend(('raw', 'fir'), loc='upper right')"
   ]
  },
  {
   "cell_type": "markdown",
   "metadata": {},
   "source": [
    "# Appel de la fonction magique \\_\\_call()\\_\\_\n",
    "On peut encore remplacer l'appel explicite de la fonction __insert__ par l'opérateur () appliqué à l'instance de la classe\n",
    "FIR_filter. Pour cela, il faut implémenter dans la classe, la fonction magique \\_\\_call()\\_\\_."
   ]
  },
  {
   "cell_type": "code",
   "execution_count": 22,
   "metadata": {},
   "outputs": [],
   "source": [
    "class FIR_filter:\n",
    "    def __init__(self, data):\n",
    "        self.weights  = data # appel le setter et calcule __NbSamples\n",
    "        self.__buffer   = RingBuffer(self.__NbSamples)\n",
    "\n",
    "    @property  # getter \n",
    "    def NbSamples(self):\n",
    "        return self.__NbSamples\n",
    "    \n",
    "    @property\n",
    "    def weights(self):\n",
    "        return self.__weights[::-1]\n",
    "    \n",
    "    @weights.setter\n",
    "    def weights(self, x):\n",
    "        print('setter')\n",
    "        self.__weights = npy.array(x[::-1], dtype=npy.float64)\n",
    "        self.__NbSamples = self.__weights.shape[0]\n",
    "        \n",
    "    def __call__(self, x):   # implementation de la fonction call.\n",
    "        self.__buffer.update(x)\n",
    "        return (self.weights * self.__buffer.samples).sum()\n",
    "        # return (self.__weights[::-1] * self.__buffer.samples[-self.__NbSamples:]).sum() # equivalent"
   ]
  },
  {
   "cell_type": "code",
   "execution_count": 23,
   "metadata": {},
   "outputs": [
    {
     "name": "stdout",
     "output_type": "stream",
     "text": [
      "setter\n",
      "weights :  [0.29579419 0.1478971  0.09859806 0.07394855 0.05915884 0.04929903\n",
      " 0.04225631 0.03697427 0.03286602 0.02957942 0.02689038 0.02464952\n",
      " 0.0227534  0.02112816 0.01971961 0.01848714]\n",
      "------------\n"
     ]
    },
    {
     "data": {
      "text/plain": [
       "<matplotlib.legend.Legend at 0x1eb1553efa0>"
      ]
     },
     "execution_count": 23,
     "metadata": {},
     "output_type": "execute_result"
    },
    {
     "data": {
      "image/png": "[encoded data removed]",
      "text/plain": [
       "<Figure size 432x288 with 1 Axes>"
      ]
     },
     "metadata": {
      "needs_background": "light"
     },
     "output_type": "display_data"
    }
   ],
   "source": [
    "import matplotlib.pyplot as plt\n",
    "\n",
    "weights=npy.array([1/(x+1) for x in range(16)])    \n",
    "weights /= weights.sum()\n",
    "    \n",
    "fir = FIR_filter(weights)\n",
    "print(\"weights : \", fir.weights)\n",
    "print('------------')\n",
    "\n",
    "r=random.seed(1452)\n",
    "  \n",
    "raw_data=[]\n",
    "fir_data=[]\n",
    "time =[]\n",
    "\n",
    "NT=2000\n",
    "T =100 # period\n",
    "dt=0.5    # time step\n",
    "for nt in range(NT):\n",
    "    t = nt*dt\n",
    "    r=random.uniform(-1., 1.)\n",
    "    s=math.sin(2*math.pi/T*t)+r\n",
    "    sf=fir(s)\n",
    "    time.append(t)\n",
    "    raw_data.append(s)\n",
    "    fir_data.append(sf)\n",
    "\n",
    "plt.figure()\n",
    "plt.plot(time, raw_data, 'r-')\n",
    "plt.plot(time, fir_data, 'b-')\n",
    "plt.draw()\n",
    "plt.legend(('raw', 'fir'), loc='upper right')"
   ]
  },
  {
   "cell_type": "markdown",
   "metadata": {},
   "source": [
    "## _____________________________ ##"
   ]
  },
  {
   "cell_type": "code",
   "execution_count": null,
   "metadata": {},
   "outputs": [],
   "source": [
    "import numpy as npy\n",
    "\n",
    "class FIR_filter(object):\n",
    "    def __init__(self, NbSamples=16):\n",
    "        self.NbSamples = NbSamples\n",
    "        self.pointer = 0\n",
    "        self.slidingsum= 0\n",
    "        self.samples=npy.zeros((NbSamples,), dtype=npy.float64)\n",
    "        \n",
    "        \n",
    "    def update(self, newsample):\n",
    "        self.pointer  %= self.NbSamples;\n",
    "        self.slidingsum -= self.samples[self.pointer]\n",
    "        self.samples[self.pointer]= newsample;\n",
    "        self.slidingsum += newsample\n",
    "        self.pointer  += 1;      \n",
    "        return self.slidingsum/self.NbSamples\n",
    "    "
   ]
  },
  {
   "cell_type": "markdown",
   "metadata": {},
   "source": [
    "## Tests \n",
    "Procéder à quelques tests. Afficher les attributs d'un objet avec la fonction magique __\\_\\_dict\\_\\___"
   ]
  },
  {
   "cell_type": "code",
   "execution_count": null,
   "metadata": {},
   "outputs": [],
   "source": [
    "fir=FIR_filter(10)\n",
    "print(fir.update(1))\n",
    "print(fir.update(2))\n",
    "print(fir.__dict__)\n",
    "print(fir.samples)\n",
    "print(fir.__dict__['NbSamples'])"
   ]
  },
  {
   "cell_type": "markdown",
   "metadata": {},
   "source": [
    "## Sécurisation des données\n",
    "Restreindre l'accès aux données de votre classe\n",
    "\n",
    "La fonction publique NbSamples retourne le nombre d'échantillons. Montrer que l'utilisation d'un __property__\n",
    "permet de simplifier son appel.\n",
    "\n",
    "La surcharge de l'opérateur [ ] se fait grâce à la fonction magique __\\_\\_getitem\\_\\___(self, ix)\n",
    "qui retournera la valeur de l'échantillon d'indice relatif ix par rapport au pointeur courant pointer."
   ]
  },
  {
   "cell_type": "code",
   "execution_count": null,
   "metadata": {},
   "outputs": [],
   "source": [
    "import numpy as npy\n",
    "\n",
    "class FIR_filter(object):\n",
    "    def __init__(self, NbSamples=32):\n",
    "        self.__NbSamples = NbSamples\n",
    "        self.__pointer = 0\n",
    "        self.__slidingsum= 0\n",
    "        self.__samples=npy.zeros((NbSamples,), dtype=float)\n",
    "    \n",
    "    def update(self, newsample):\n",
    "        self.__pointer  %= self.__NbSamples;       \n",
    "        self.__slidingsum -= self.__samples[self.__pointer]\n",
    "        self.__samples[self.__pointer]= newsample;\n",
    "        self.__slidingsum += newsample\n",
    "        self.__pointer  += 1;\n",
    "        \n",
    "        return self.__slidingsum/self.__NbSamples\n",
    "    \n",
    "    def __getitem__(self, ix):\n",
    "        \"\"\"index relative to current value of pointer\n",
    "        \"\"\"\n",
    "        pointer = (self.__pointer + ix) % self.__NbSamples\n",
    "        return self.__samples[pointer]\n",
    "    \n",
    "    def __repr__(self):\n",
    "        return npy.array_repr(self.__samples, precision=6, suppress_small=True)"
   ]
  },
  {
   "cell_type": "code",
   "execution_count": null,
   "metadata": {},
   "outputs": [],
   "source": [
    "x=npy.array([1, 2, 3])\n",
    "print(npy.array_repr(x, precision=6, suppress_small=True))\n",
    "fir=FIR_filter(10)\n",
    "print(fir)"
   ]
  },
  {
   "cell_type": "code",
   "execution_count": null,
   "metadata": {},
   "outputs": [],
   "source": [
    "fir=FIR_filter(10)\n",
    "print(fir.update(1))\n",
    "print(fir.update(2))\n",
    "print(fir.__dict__)\n",
    "print(fir[-2], fir[-1], fir[0], fir[1])\n",
    "print(fir)"
   ]
  },
  {
   "cell_type": "markdown",
   "metadata": {},
   "source": [
    "## Application du FIR\n",
    "On considère un signal sinusoidal d'amplitude 1 bruité par un bruit blanc [-1, 1]\n",
    "de période 100 (s). \n",
    "\n",
    "On utilisera la fonction __uniform__ du module random pour générer ce bruit.\n",
    "\n",
    "Le temps est discrétisé en pas de temps dt=0.5 (s).\n",
    "\n",
    "On utilisera le module plotly ou Matplotlib pour afficher le signal bruit et le signal filtré.\n"
   ]
  },
  {
   "cell_type": "markdown",
   "metadata": {},
   "source": [
    "# version matplotlib"
   ]
  },
  {
   "cell_type": "code",
   "execution_count": null,
   "metadata": {},
   "outputs": [],
   "source": [
    "# version matplotlib\n",
    "%matplotlib\n",
    "import matplotlib.pyplot as plt\n",
    "\n",
    "import random\n",
    "import math\n",
    "import numpy as npy\n",
    "\n",
    "class FIR_filter(object):\n",
    "    def __init__(self, NbSamples=32):\n",
    "        self.__NbSamples = NbSamples\n",
    "        self.__pointer = 0\n",
    "        self.__slidingsum= 0\n",
    "        self.__samples=npy.zeros((NbSamples,), dtype=float)\n",
    "\n",
    "    @property\n",
    "    def NbSamples(self):\n",
    "        return self.__NbSamples\n",
    "        \n",
    "    def update(self, newsample):\n",
    "        self.__pointer  %= self.__NbSamples;\n",
    "        self.__slidingsum -= self.__samples[self.__pointer]\n",
    "        self.__samples[self.__pointer]= newsample;\n",
    "        self.__slidingsum += newsample\n",
    "        self.__pointer  += 1;\n",
    "        return self.__slidingsum/self.__NbSamples\n",
    "    \n",
    "if __name__ == \"__main__\":\n",
    "    fir = FIR_filter(10)\n",
    "    r=random.seed(1452)\n",
    "\n",
    "    raw_data=[]\n",
    "    fir_data=[]\n",
    "    time =[]\n",
    "    \n",
    "    NT=2000\n",
    "    T =100 # period\n",
    "    dt=0.5    # time step\n",
    "    for nt in range(NT):\n",
    "        t = nt*dt\n",
    "        r=random.uniform(-1., 1.)\n",
    "        s=math.sin(2*math.pi/T*t)+r\n",
    "        sf=fir.update(s)\n",
    "        time.append(t)\n",
    "        raw_data.append(s)\n",
    "        fir_data.append(sf)\n",
    "\n",
    "    plt.figure()\n",
    "    plt.plot(time, raw_data, 'r-')\n",
    "    plt.plot(time, fir_data, 'b-')\n",
    "    plt.draw()\n",
    "    plt.legend(('raw', 'fir'), loc='upper right')"
   ]
  },
  {
   "cell_type": "markdown",
   "metadata": {},
   "source": [
    "#  Transformée de fourier discrète\n",
    "La technique usuelle pour déterminer les fréquences caractéristiques ainsi que l’amplitude des harmoniques qui composent un signal, consiste à calculer sa transformée de fourier. \n",
    "\n",
    "Dans une approche numérique, cette opération est effectuée sur un ensemble de valeurs échantillonnées.\n",
    "\n",
    "Le but est d'utiliser ici le module scipy.fftpack pour calculer les transformées de fourier directe\n",
    "et inverse.\n",
    "\n",
    "## définitions\n",
    "\n",
    "La transformée directe d'un signal __périodique__ s échantillonné en N points \n",
    "est définie par :\n",
    "$$ft[k]=\\sum_{n=0}^{N-1}  s[n] \\exp(-i \\frac{2\\pi k}{N}n)$$\n",
    "où $k \\in [0, N-1]$ avec $i^2=-1$.\n",
    "\n",
    "Sa transformée inverse est :\n",
    "\n",
    "$$s[n]=\\frac{1}{N} \\sum_{k=0}^{N-1}  ft[n] \\exp(+i \\frac{2\\pi k}{N}n)$$\n",
    "\n",
    "Appliquer  ces définitions à un signal non périodique, revient à la périodiser avec une période entière N."
   ]
  },
  {
   "cell_type": "code",
   "execution_count": null,
   "metadata": {},
   "outputs": [],
   "source": [
    "# version plotly \n",
    "from plotly import tools\n",
    "import plotly.offline as py\n",
    "import plotly.graph_objs as go\n",
    "\n",
    "import scipy.fftpack as fftpack\n",
    "\n",
    "raw_fft = fftpack.fft(raw_data)\n",
    "fir_fft = fftpack.fft(fir_data)\n",
    "\n",
    "# Make plotly work with Jupyter notebook using the plotly.js CDN\n",
    "py.init_notebook_mode(connected=True)\n",
    "    \n",
    "trace1 = go.Scatter(\n",
    "    y=abs(raw_fft),\n",
    "    mode = 'lines+markers',\n",
    "    name='Abs(raw_fft)'\n",
    ")\n",
    "\n",
    "trace2 = go.Scatter(\n",
    "    y=abs(fir_fft),\n",
    "    mode = 'lines+markers',\n",
    "    name='Abs(fir_fft)'\n",
    ")\n",
    "\n",
    "fig = tools.make_subplots(rows=1, cols=2)\n",
    "fig.append_trace(trace1, 1, 1)\n",
    "fig.append_trace(trace2, 1, 2)\n",
    "\n",
    "fig['layout'].update(title='2 subplots')\n",
    "\n",
    "fig['layout'].update(    \n",
    "    xaxis1=dict(   \n",
    "        title='x Axis 1',\n",
    "        titlefont=dict(\n",
    "            family='Courier New, monospace',   #police\n",
    "            size=18,\n",
    "            color='#7f7f7f'                    #couleur du texte\n",
    "        )),\n",
    "    xaxis2=dict(\n",
    "        title='x Axis 2',\n",
    "        titlefont=dict(\n",
    "            family='Courier New, monospace',\n",
    "            size=18,\n",
    "            color='#7f7f7f'\n",
    "        ))\n",
    "                    \n",
    "                    )\n",
    "\n",
    "py.iplot(fig)\n"
   ]
  },
  {
   "cell_type": "markdown",
   "metadata": {},
   "source": [
    "# Passage aux fréquences physiques\n",
    "Le signal brut a été echantillonné avec une fréquence d'échantillonnage f_s=1/dt\n",
    "Le nombre de pas réalisés est NT et correspond à une durée d'analyse T = NT . dt\n",
    "Les fréquences physiques explorées s'étendent de\n",
    "f = [0, 1, ...,   NT/2-1,     -NT/2, ..., -1] / (NT . dt) pour NT pair.\n",
    "\n",
    "Lire la documentation des fonctions __npy.fft.fftfreq__ et __npy.fft.fftshift__"
   ]
  },
  {
   "cell_type": "code",
   "execution_count": null,
   "metadata": {},
   "outputs": [],
   "source": [
    "import numpy as npy\n",
    "help(npy.fft.fftfreq)\n",
    "help(npy.fft.fftshift)"
   ]
  },
  {
   "cell_type": "code",
   "execution_count": null,
   "metadata": {},
   "outputs": [],
   "source": [
    "import scipy.fftpack as fftpack\n",
    "\n",
    "freq = npy.fft.fftfreq(len(raw_data), dt)\n",
    "freqshift = npy.fft.fftshift(freq)\n",
    "\n",
    "raw_fft = fftpack.fft(raw_data)\n",
    "fir_fft = fftpack.fft(fir_data)\n",
    "\n",
    "raw_fftshift = fftpack.fftshift(raw_fft)\n",
    "fir_fftshift = fftpack.fftshift(fir_fft)\n",
    "\n",
    "trace1 = go.Scatter(\n",
    "    x=freqshift,\n",
    "    y=abs(raw_fftshift),\n",
    "    mode = 'lines+markers',\n",
    "    name='Abs(raw_fft)'\n",
    ")\n",
    "\n",
    "trace2 = go.Scatter(\n",
    "    x=freqshift,\n",
    "    y=abs(fir_fftshift),\n",
    "    mode = 'lines+markers',\n",
    "    name='Abs(fir_fft)'\n",
    ")\n",
    "\n",
    "fig = tools.make_subplots(rows=1, cols=2)\n",
    "fig.append_trace(trace1, 1, 1)\n",
    "fig.append_trace(trace2, 1, 2)\n",
    "\n",
    "fig['layout'].update(title='2 subplots')\n",
    "\n",
    "fig['layout'].update(    \n",
    "    xaxis1=dict(   \n",
    "        title='x Axis 1',\n",
    "        titlefont=dict(\n",
    "            family='Courier New, monospace',   #police\n",
    "            size=18,\n",
    "            color='#7f7f7f'                    #couleur du texte\n",
    "        )),\n",
    "    xaxis2=dict(\n",
    "        title='x Axis 2',\n",
    "        titlefont=dict(\n",
    "            family='Courier New, monospace',\n",
    "            size=18,\n",
    "            color='#7f7f7f'\n",
    "        ))\n",
    "                    \n",
    "                    )\n",
    "\n",
    "py.iplot(fig)"
   ]
  },
  {
   "cell_type": "code",
   "execution_count": null,
   "metadata": {},
   "outputs": [],
   "source": [
    "import cmath\n",
    "filter = lambda f :npy.sum([cmath.exp(2*cmath.pi*f*1j*n*dt)*fir.weights[n] \n",
    "                            for n in range(fir.NbSamples)])\n",
    "\n",
    "freq = [2*math.pi/T/100*nf for nf in range(100)]\n",
    "ampl=[]\n",
    "for f in freq:\n",
    "    a = abs(filter(f))/fir.NbSamples\n",
    "    ampl.append(a)\n",
    "    \n",
    "    # Make plotly work with Jupyter notebook using the plotly.js CDN\n",
    "py.init_notebook_mode(connected=True)\n",
    "\n",
    "trace1 = go.Scatter(\n",
    "    x=freq,\n",
    "    y=ampl,\n",
    "    name='raw signal'\n",
    ")\n",
    "\n",
    "layout = go.Layout(\n",
    "    title='FIR'\n",
    ")\n",
    "\n",
    "py.iplot({\n",
    "    \"data\": [trace1],\n",
    "    \"layout\": layout,\n",
    "})    \n",
    "    "
   ]
  },
  {
   "cell_type": "code",
   "execution_count": null,
   "metadata": {},
   "outputs": [],
   "source": [
    "print(fir.weights[1])"
   ]
  },
  {
   "cell_type": "code",
   "execution_count": null,
   "metadata": {},
   "outputs": [],
   "source": [
    "g=[]\n",
    "for nf, f in enumerate(freqshift):\n",
    "    a = filter(f) #/fir.NbSamples\n",
    "    g.append(raw_fftshift[nf]*a)\n",
    "\n",
    "    # Make plotly work with Jupyter notebook using the plotly.js CDN\n",
    "py.init_notebook_mode(connected=True)\n",
    "\n",
    "trace1 = go.Scatter(\n",
    "    x=freqshift,\n",
    "    y=npy.abs(g),\n",
    "    mode = 'lines+markers',\n",
    "    name='fir signal'\n",
    ")\n",
    "\n",
    "layout = go.Layout(\n",
    "    title='FIR'\n",
    ")\n",
    "\n",
    "trace2 = go.Scatter(\n",
    "    x=freqshift,\n",
    "    y=abs(fir_fftshift),\n",
    "    mode = 'lines+markers',\n",
    "    name='Abs(fir_fft)'\n",
    ")\n",
    "\n",
    "fig = tools.make_subplots(rows=1, cols=2)\n",
    "fig.append_trace(trace1, 1, 1)\n",
    "fig.append_trace(trace2, 1, 2)\n",
    "\n",
    "fig['layout'].update(title='2 subplots')\n",
    "\n",
    "fig['layout'].update(    \n",
    "    xaxis1=dict(   \n",
    "        title='x Axis 1',\n",
    "        titlefont=dict(\n",
    "            family='Courier New, monospace',   #police\n",
    "            size=18,\n",
    "            color='#7f7f7f'                    #couleur du texte\n",
    "        )),\n",
    "    xaxis2=dict(\n",
    "        title='x Axis 2',\n",
    "        titlefont=dict(\n",
    "            family='Courier New, monospace',\n",
    "            size=18,\n",
    "            color='#7f7f7f'\n",
    "        ))\n",
    "            )\n",
    "\n",
    "py.iplot(fig)    \n",
    "    "
   ]
  },
  {
   "cell_type": "code",
   "execution_count": null,
   "metadata": {},
   "outputs": [],
   "source": []
  }
 ],
 "metadata": {
  "kernelspec": {
   "display_name": "Python 3 (ipykernel)",
   "language": "python",
   "name": "python3"
  },
  "language_info": {
   "codemirror_mode": {
    "name": "ipython",
    "version": 3
   },
   "file_extension": ".py",
   "mimetype": "text/x-python",
   "name": "python",
   "nbconvert_exporter": "python",
   "pygments_lexer": "ipython3",
   "version": "3.9.7"
  }
 },
 "nbformat": 4,
 "nbformat_minor": 2
}
