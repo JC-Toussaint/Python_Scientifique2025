{
 "cells": [
  {
   "cell_type": "markdown",
   "metadata": {},
   "source": [
    "# Miniprojet \"Triangles\"\n",
    "On s’intéresse dans ce miniprojet à trouver les propriétés de triangles. Ces derniers seront définis par la longueur de leurs côtés. Pour simplifier, on n’envisagera que le cas où ces longueurs sont des valeurs entières. Les trois entiers décrivant le triangle seront assemblés dans un tuple (a,b,c)."
   ]
  },
  {
   "cell_type": "markdown",
   "metadata": {},
   "source": [
    "1- Créez une fonction ‘triangle_utilisateur()’, qui permet de demander à l’utilisateur les 3 entiers décrivant le triangle. \n",
    "- La fonction ne possède pas de paramètre d’entrée.\n",
    "- Récupérer grâce à un ou plusieurs appels à la fonction input() les 3 longueurs des cotés du triangle.\n",
    "- Assembler ces valeurs dans un tuple. Votre fonction retournera ce tuple."
   ]
  },
  {
   "cell_type": "code",
   "execution_count": null,
   "metadata": {},
   "outputs": [],
   "source": [
    "# question 1\n"
   ]
  },
  {
   "cell_type": "markdown",
   "metadata": {},
   "source": [
    "2- On vous donne le code de la fonction ‘est_triangle(t)’ \n",
    "- Cette fonction prend en paramètre un tuple de 3 entiers décrivant le triangle\n",
    "- La fonction renvoie True si on peut créer un triangle à partir des 3 longueurs contenues dans le tuple ‘t’ et False sinon."
   ]
  },
  {
   "cell_type": "code",
   "execution_count": null,
   "metadata": {},
   "outputs": [],
   "source": [
    "# question 2\n",
    "def est_triangle(t):\n",
    "    cotes = sorted(list(t))\n",
    "    return cotes[0] + cotes[1] > cotes[2]"
   ]
  },
  {
   "cell_type": "markdown",
   "metadata": {},
   "source": [
    "3- Dans le même esprit que la question 2, créer une fonction ‘est_rectangle(t)’ permettant de vérifier si un triangle est un triangle rectangle. Créer deux autres fonctions sur le même modèle pour vérifier si un triangle est isocèle puis s’il est équilatéral."
   ]
  },
  {
   "cell_type": "code",
   "execution_count": null,
   "metadata": {},
   "outputs": [],
   "source": [
    "# question 3 rectangle\n"
   ]
  },
  {
   "cell_type": "code",
   "execution_count": null,
   "metadata": {},
   "outputs": [],
   "source": [
    "# question 3 isocele\n"
   ]
  },
  {
   "cell_type": "code",
   "execution_count": null,
   "metadata": {},
   "outputs": [],
   "source": [
    "# question 3 equilateral\n"
   ]
  },
  {
   "cell_type": "markdown",
   "metadata": {},
   "source": [
    "4- On veut à présent écrire une fonction ‘analyse_triangle(t)’, qui renvoie un dictionnaire donnant toutes les informations sur le triangle. \n",
    "- Ce dictionnaire aura des clés de type str décrivant le paramètre, comme par exemple \"isocèle\". Ses valeurs seront True ou False.\n",
    "- Par exemple, si les 3 dimensions passées dans le paramètre t forment un triangle rectangle isocèle, la fonction ‘analyse_triangle(t)’ renverra le dictionnaire suivant :\n",
    "{‘triangle’ :True, ‘rectangle’ :True, ‘isocèle’:True, ‘équilatéral’ :False}"
   ]
  },
  {
   "cell_type": "code",
   "execution_count": null,
   "metadata": {},
   "outputs": [],
   "source": [
    "# question 4\n"
   ]
  },
  {
   "cell_type": "markdown",
   "metadata": {},
   "source": [
    "5- Testez la fonction produite à la question 5 sur quelques exemples"
   ]
  },
  {
   "cell_type": "code",
   "execution_count": null,
   "metadata": {},
   "outputs": [],
   "source": [
    "# question 5\n"
   ]
  },
  {
   "cell_type": "markdown",
   "metadata": {},
   "source": [
    "6- Ecrivez une fonction ‘perimetre(t)’, qui retourne le périmètre du triangle"
   ]
  },
  {
   "cell_type": "code",
   "execution_count": null,
   "metadata": {},
   "outputs": [],
   "source": [
    "# question 6\n"
   ]
  },
  {
   "cell_type": "markdown",
   "metadata": {},
   "source": [
    "7- Ecrivez une fonction surface(t)’, qui retourne la surface du triangle.\n",
    "\n",
    "Note : la surface d’un triangle peut se calculer selon : $S=\\sqrt{d(d-a)(d-b)(d-c)}$, où a,b,c sont les cotés du triangle et d est le demi-périmètre."
   ]
  },
  {
   "cell_type": "code",
   "execution_count": null,
   "metadata": {},
   "outputs": [],
   "source": [
    "# question 7\n"
   ]
  },
  {
   "cell_type": "markdown",
   "metadata": {},
   "source": [
    "8- On souhaite à présent effectuer des calculs de surface de triangles sur un grand nombre de triangles.\n",
    "Pour cela, on va passer par numpy. Il faut tout d'abord transformer une liste de triangles en tableau numpy\n",
    "\n",
    "Ecrire une fonction to_numpy(list_t) qui transforme une liste de N tuples (chaque tuple correspondant à un triangle) en un tableau numpy à N lignes et 3 colonnes. Testez votre fonction sur la liste li fournie !"
   ]
  },
  {
   "cell_type": "code",
   "execution_count": null,
   "metadata": {},
   "outputs": [],
   "source": [
    "# question 8\n"
   ]
  },
  {
   "cell_type": "markdown",
   "metadata": {},
   "source": [
    "9- On souhaite dans un premier temps vérifier que chaque ligne du tableau, qui correspond à un triangle, peut réellement représenter un triangle ! Pour ce faire, développer une fonction équivalente à celle de la question 2 mais qui travaille sur un tableau (tab) similaire à celui obtenu en question 8 (N lignes et 3 colonnes). Vous pourrez utiliser la fonction numpy.apply_along_axis() pour cela !\n",
    "\n",
    "Cette fonction sera nommée est_triangle_np(tab) et retournera un tableau numpy unidimensionnel (=1 seule ligne). "
   ]
  },
  {
   "cell_type": "code",
   "execution_count": null,
   "metadata": {},
   "outputs": [],
   "source": [
    "# question 9\n"
   ]
  },
  {
   "cell_type": "markdown",
   "metadata": {},
   "source": [
    "10- En supposant qu'on ait un tableau de triangles (tab) tel que fourni par la fonction to_numpy développée dans la question 8, on souhaite à présent calculer le périmetre de chacun de ces triangles en utilisant des fonctions numpy. On utilisera pour cela la méthode sum() disponible sur les tableaux numpy. Notez qu'on pourrait également utiliser numpy.apply_along_axis() mais c'est moins efficace...\n",
    "\n",
    "Ecrire une fonction perimetre_np(tab) qui réalise cela. La valeur de retour de cette fonction sera un tableau numpy unidimensionnel (=1 seule ligne)"
   ]
  },
  {
   "cell_type": "code",
   "execution_count": null,
   "metadata": {},
   "outputs": [],
   "source": [
    "# question 10\n"
   ]
  },
  {
   "cell_type": "markdown",
   "metadata": {},
   "source": [
    "11- Ecrivez une nouvelle fonction perimetre_np de manière à ce que, si les valeurs d'une ligne du tableau d'entrée ne correspondent pas à un triangle (tel que défini dans la question 2), alors l'entrée correspondante dans le tableau retourné par la fonction vaut np.nan.\n",
    "\n",
    "Pour cela, on vous propose d'utiliser la fonction np.where() et de faire bon usage de la fonction définie à la question 9."
   ]
  },
  {
   "cell_type": "code",
   "execution_count": null,
   "metadata": {},
   "outputs": [],
   "source": [
    "# question 11\n"
   ]
  },
  {
   "cell_type": "markdown",
   "metadata": {},
   "source": [
    "# Version objet\n",
    "\n",
    "Créez une classe \"Triangle\" qui reprend les fonctionnalités développées dans les questions 1 à 7"
   ]
  },
  {
   "cell_type": "code",
   "execution_count": null,
   "metadata": {},
   "outputs": [],
   "source": [
    "class Triangle:\n",
    "    # a compléter !"
   ]
  }
 ],
 "metadata": {
  "kernelspec": {
   "display_name": "Python 3.9.13 ('base')",
   "language": "python",
   "name": "python3"
  },
  "language_info": {
   "codemirror_mode": {
    "name": "ipython",
    "version": 3
   },
   "file_extension": ".py",
   "mimetype": "text/x-python",
   "name": "python",
   "nbconvert_exporter": "python",
   "pygments_lexer": "ipython3",
   "version": "3.9.13"
  },
  "orig_nbformat": 4,
  "vscode": {
   "interpreter": {
    "hash": "fde26f485a75bcfd4ac0c088bf6d368999ecee0094b87ce2c613b08cd3964405"
   }
  }
 },
 "nbformat": 4,
 "nbformat_minor": 2
}
