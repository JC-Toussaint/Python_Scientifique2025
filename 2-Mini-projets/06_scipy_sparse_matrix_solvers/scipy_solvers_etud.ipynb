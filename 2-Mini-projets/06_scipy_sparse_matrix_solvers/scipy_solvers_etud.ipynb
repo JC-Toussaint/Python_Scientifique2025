{
 "cells": [
  {
   "cell_type": "markdown",
   "metadata": {},
   "source": [
    "# La bibliothèque scipy\n",
    "\n",
    "Le module scipy comporte les sous-modules importants suivants\n",
    "* scipy.constants : constantes physiques et mathématiques\n",
    "* scipy.fft : transformée de Fourier discrète\n",
    "* scipy.integrate : intégration et équations différentielles\n",
    "* scipy.interpolate : interpolation\n",
    "* __scipy.linalg__ : algèbre linéaire\n",
    "* scipy.optimize : optimisation et recherche de racines\n",
    "* scipy.signal : traitement du signal\n",
    "* __scipy.sparse__ : matrices creuses\n",
    "* scipy.stats : fonctions statistiques\n",
    "\n",
    "## Matrices creuses\n",
    "\n",
    "Ce sont des matrices comportant beaucoup de zéros. Plusieurs formats existent pour stocker uniquement que\n",
    "les termes non nuls.\n",
    "\n",
    "* csc\\_matrix : Compressed Sparse Column\n",
    "* csr\\_matrix : Compressed Sparse Row\n",
    "* bsr\\_matrix : Block Sparse Row\n",
    "* lil\\_matrix : List of Lists\n",
    "* dok\\_matrix : Dictionary of Keys\n",
    "* coo\\_matrix : COOrdinate\n",
    "\n",
    "L'exemple suivant construit une matrice creuse $3 \\times 3$ sous forme __CSC__ avec les éléments non nuls suivants :"
   ]
  },
  {
   "cell_type": "code",
   "execution_count": null,
   "metadata": {},
   "outputs": [],
   "source": [
    "import numpy as np\n",
    "import scipy.sparse as sp\n",
    "\n",
    "row  = np.array([0, 2, 2, 0, 1, 2])\n",
    "col  = np.array([0, 0, 1, 2, 2, 2])\n",
    "data = np.array([1, 2, 3, 4, 5, 6])\n",
    "\n",
    "M = sp.csc_matrix((data, (row, col)), shape=(3, 3))\n",
    "print(M)\n",
    "print('-'*20)\n",
    "print(M.todense())"
   ]
  },
  {
   "cell_type": "markdown",
   "metadata": {},
   "source": [
    "Chaque colonne est stockée séquentiellement avec les valeurs et indices de ligne correspondants.\n",
    "\n",
    "### Avantages :\n",
    "* Opérations arithmétiques efficaces : __csc__ + __csc__, __csc__ * __csc__\n",
    "* Slicing efficace selon les colonnes\n",
    "* Produit matrice-vecteur rapide\n",
    "\n",
    "### Inconvénients :\n",
    "* Accès aux lignes moins efficace qu'en __csr__\n",
    "* Conversion coûteuse vers d'autres formats\n",
    "\n",
    "L'exemple suivant transforme une matrice creuse __csc__ en __csr__"
   ]
  },
  {
   "cell_type": "code",
   "execution_count": null,
   "metadata": {},
   "outputs": [],
   "source": [
    "M = sp.csc_matrix((data, (row, col)), shape=(3, 3))\n",
    "print(type(M))\n",
    "M = sp.csr_matrix(M) # appel du constructeur\n",
    "print(type(M))\n",
    "print(M.getformat()) \n",
    "print(M)\n",
    "print(M.todense())"
   ]
  },
  {
   "cell_type": "markdown",
   "metadata": {},
   "source": [
    "# Résolution d'une équation laplacienne\n",
    "On modélise la déformation d'une membrane souple par une équation laplacienne du type :\n",
    "$$ \\frac{\\partial^2 u}{\\partial x^2} + q(x) =0 $$\n",
    "où $u$ est le déplacement selon Oz et $q(x)$ la distribution de charges.\n",
    "\n",
    "On suppose que la membrane est fixée en $x=0$ et $x=L$. Autrement dit, $u(x=0)=0$ et $u(x=L)$.\n",
    "\n",
    "* En différences finies, en un point __intérieur__ $x$ de la grille, on approxime l'opérateur laplacien appliqué à $u(x)$\n",
    "par des accroissements.\n",
    " \n",
    "_Indication_ : faire un développement de Taylor de $u(x, y)$ à partir des premiers voisins.\n",
    "On utilisera le développement limité suivant, pour une fonction à deux variables :\n",
    "  \\begin{equation}\n",
    " u(x+\\Delta x) = u(x) + \\Delta x\\; \\partial_x u + \\frac{1}{2}  (\\Delta x)^2\\;  \\partial^2_x  \\; u+\n",
    "\\frac{1}{6}  (\\Delta x)^3\\;  \\partial^3_x  \\; u + \\vartheta(\\Delta x)^4\n",
    "\\end{equation}\n",
    "Les dérivées partielles étant évaluées en $x$. \n",
    "Faire de même avec $u(x-\\Delta x)$ et sommer le développement limité avec celui de $u(x+\\Delta x)$.\n",
    "\n",
    "* On montre que l'opérateur laplacien en différences finies s'écrit :\n",
    "$$\\partial^2_x  \\; u = \\frac{u(x+\\Delta x)+u(x-\\Delta x)-2u(x)}{\\Delta x^2}  + \\vartheta(\\Delta x)^2$$\n",
    "\n",
    "* De manière discrète en posant $x = p \\times \\Delta x$, avec $p \\in [0, N-1]$, on a :\n",
    "  $$\\left. \\partial^2_x  \\; u \\right|_p = \\frac{u_{p+1}+u_{p-1}-2u_{p}}{\\Delta x^2}.$$\n",
    "\n",
    "* pour les noeuds gauche et droit qui sont __virtuels__, i.e. pour lesquels le déplacement est nul \n",
    "  $$\\left. \\partial^2_x  \\; u \\right|_0 = \\frac{u_{p+1}+0-2u_{p}}{\\Delta x^2}.$$\n",
    "et\n",
    "  $$\\left. \\partial^2_x  \\; u \\right|_L = \\frac{0+u_{p-1}-2u_{p}}{\\Delta x^2}.$$"
   ]
  },
  {
   "cell_type": "code",
   "execution_count": null,
   "metadata": {},
   "outputs": [],
   "source": [
    "import numpy as np\n",
    "from scipy.sparse import diags\n",
    "\n",
    "def laplacien_1D_dirichlet(N, h):\n",
    "    \"\"\"\n",
    "    Génère la matrice du Laplacien 1D discrétisé avec conditions de Dirichlet homogènes.\n",
    "    \n",
    "    Paramètres : \n",
    "    - N : nombre de points internes (sans les bords)\n",
    "    - h : pas d'espace (distance entre les points)\n",
    "      o--|--|--|--|--|--|--|--|--o\n",
    "         0  1  2  3  4  5  6  7 = N-1\n",
    "    Retourne :\n",
    "    - L : matrice creuse (sparse) du Laplacien (N x N)\n",
    "    \"\"\"\n",
    "    diagonale = -2 * np.ones(N)\n",
    "    off_diagonale = np.ones(N - 1)\n",
    "    data = [off_diagonale, diagonale, off_diagonale]\n",
    "    offsets = [-1, 0, 1]\n",
    "    L = diags(data, offsets, format='csr') / h**2\n",
    "    return L"
   ]
  },
  {
   "cell_type": "markdown",
   "metadata": {},
   "source": [
    "# Exercice :\n",
    "Tester cette fonction et afficher la matrice creuse sous une forme matricielle lisible en utilisant la fonction membre\n",
    "__toarray()__"
   ]
  },
  {
   "cell_type": "code",
   "execution_count": null,
   "metadata": {},
   "outputs": [],
   "source": [
    "N = 9   # nombre de points internes\n",
    "L = 1.0\n",
    "h = L / (N + 1)  # on inclut les deux points frontières dans le maillage total\n",
    "\n",
    "# A COMPLETER"
   ]
  },
  {
   "cell_type": "markdown",
   "metadata": {},
   "source": [
    "On suppose que la charge $q$ est uniforme et vaut $-1$, générer le système matricielle puis le résoudre avec une méthode itérative du type gradient conjugué stabilisé.\n",
    "\n",
    "* Pour ce faire, regarder le manuel du gradient conjugué __scipy.sparse.linalg.cgs__."
   ]
  },
  {
   "cell_type": "code",
   "execution_count": null,
   "metadata": {},
   "outputs": [],
   "source": [
    "import scipy.sparse as sparse\n",
    "help(sparse.linalg.cgs)"
   ]
  },
  {
   "cell_type": "code",
   "execution_count": null,
   "metadata": {},
   "outputs": [],
   "source": [
    "import numpy as np\n",
    "import matplotlib.pylab as plt\n",
    "from scipy import optimize\n",
    "import scipy.sparse as sparse\n",
    "import time\n",
    "\n",
    "def solve_sparse(A, b):\n",
    "    num_iters = 0\n",
    "\n",
    "    def callback(xk): # exemple d'une fonction privée\n",
    "        nonlocal num_iters\n",
    "        num_iters+=1\n",
    "\n",
    "    M=None # SANS PRECONDITIONNEUR\n",
    "\n",
    "    x,status=sparse.linalg.cgs(A, b, M=M, rtol=1e-6, callback=callback)\n",
    "    return x,status,num_iters\n",
    "\n",
    "N = 99   # nombre de points internes\n",
    "L = 1.0\n",
    "h = L / (N + 1)  # on inclut les deux points frontières dans le maillage total\n",
    "\n",
    "A =  laplacien_1D_dirichlet(N, h)\n",
    "b =  np.ones(shape=(N, 1))\n",
    "start = time.process_time()\n",
    "u, status, num_iters = solve_sparse(A, b)\n",
    "end = time.process_time()\n",
    "print(f\"Temps CPU : {end - start:.6f} secondes\")\n",
    "\n",
    "print(u.shape)\n",
    "x = np.linspace(0, 1, N+2)\n",
    "ut = np.zeros(shape=(N+2))\n",
    "ut[1:N+1]=u[0:N]  # ATTENTION slicing la borne droite est exclue\n",
    "plt.plot(x, ut, 'r')\n",
    "plt.grid()"
   ]
  },
  {
   "attachments": {},
   "cell_type": "markdown",
   "metadata": {
    "collapsed": true,
    "jupyter": {
     "outputs_hidden": true
    }
   },
   "source": [
    "### avec préconditionnement\n",
    "Un préconditionneur est une matrice permettant d'améliorer le conditionnement de la matrice du système linéaire et en pratique, cela permet d'optimiser le temps de calcul sur de grands systèmes. Curieusement, scipy ne propose pas de préconditionneur du type choleski adapté \n",
    "dans le cas de matrice symétrique mais un de type factorisation LU incomplète plus général."
   ]
  },
  {
   "cell_type": "code",
   "execution_count": null,
   "metadata": {},
   "outputs": [],
   "source": [
    "import numpy as np\n",
    "import matplotlib.pylab as plt\n",
    "from scipy import optimize\n",
    "import scipy.sparse as sparse\n",
    "import time\n",
    "\n",
    "def solve_sparse(A, b):\n",
    "    num_iters = 0\n",
    "\n",
    "    def callback(xk):\n",
    "        nonlocal num_iters\n",
    "        num_iters+=1\n",
    "\n",
    "    A=A.tocsc() # spilu impose que A soit stockee format CSC\n",
    "    ILU=sparse.linalg.spilu(A) \n",
    "    M = sparse.linalg.LinearOperator(shape=(N, N), matvec=ILU.solve)\n",
    "\n",
    "    x,status=sparse.linalg.cg(A, b, M=M, rtol=1e-6, callback=callback)\n",
    "    return x,status,num_iters\n",
    "\n",
    "N = 99   # nombre de points internes\n",
    "L = 1.0\n",
    "h = L / (N + 1)  # on inclut les deux points frontières dans le maillage total\n",
    "\n",
    "A =  laplacien_1D_dirichlet(N, h)\n",
    "print(type(A))\n",
    "b =  np.ones(shape=(N, 1))\n",
    "\n",
    "start = time.process_time()\n",
    "u, status, num_iters = solve_sparse(A, b)\n",
    "end = time.process_time()\n",
    "print(f\"Temps CPU : {end - start:.6f} secondes\")\n",
    "\n",
    "print(u.shape)\n",
    "x = np.linspace(0, 1, N+2)\n",
    "ut = np.zeros(shape=(N+2))\n",
    "ut[1:N+1]=u[0:N]  # ATTENTION slicing : la borne droite est exclue\n",
    "plt.plot(x, ut, 'r')\n",
    "plt.grid()\n",
    "print('shared memory : ', np.shares_memory(u, ut))"
   ]
  },
  {
   "cell_type": "code",
   "execution_count": null,
   "metadata": {},
   "outputs": [],
   "source": []
  }
 ],
 "metadata": {
  "anaconda-cloud": {},
  "kernelspec": {
   "display_name": "Python 3 (ipykernel)",
   "language": "python",
   "name": "python3"
  },
  "language_info": {
   "codemirror_mode": {
    "name": "ipython",
    "version": 3
   },
   "file_extension": ".py",
   "mimetype": "text/x-python",
   "name": "python",
   "nbconvert_exporter": "python",
   "pygments_lexer": "ipython3",
   "version": "3.12.7"
  }
 },
 "nbformat": 4,
 "nbformat_minor": 4
}
