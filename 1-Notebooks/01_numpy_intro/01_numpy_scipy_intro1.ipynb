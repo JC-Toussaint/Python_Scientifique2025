{
 "cells": [
  {
   "cell_type": "markdown",
   "metadata": {},
   "source": [
    "# Librairies Python Numpy/Scipy\n",
    "\n",
    "NumPy est une extension du langage de programmation Python, pour\n",
    "manipuler des matrices ou des tableaux multidimensionnels.\n",
    "Elle possède des fonctions mathématiques vectorielles opérant sur les tableaux.\n",
    "\n",
    "NumPy est la base de la librairie SciPy, regroupement de librairies\n",
    "Python pour le calcul scientifique. "
   ]
  },
  {
   "cell_type": "markdown",
   "metadata": {},
   "source": [
    "# Tableau unidimensionnel"
   ]
  },
  {
   "cell_type": "code",
   "execution_count": null,
   "metadata": {},
   "outputs": [],
   "source": [
    "import numpy as np\n",
    "a=np.arange(10)\n",
    "print(a)\n",
    "b = np.arange(0., 10., 0.499999999999)\n",
    "print(b)"
   ]
  },
  {
   "cell_type": "markdown",
   "metadata": {},
   "source": [
    "Pour obtenir le type de l'objet et celui des données sous-jacentes"
   ]
  },
  {
   "cell_type": "code",
   "execution_count": null,
   "metadata": {},
   "outputs": [],
   "source": [
    "print(type(a))\n",
    "print(a.dtype)"
   ]
  },
  {
   "cell_type": "markdown",
   "metadata": {},
   "source": [
    "Pour créer un tableau de réels, il faut préciser le type explicitement"
   ]
  },
  {
   "cell_type": "code",
   "execution_count": 2,
   "metadata": {},
   "outputs": [
    {
     "name": "stdout",
     "output_type": "stream",
     "text": [
      "[0. 1. 2. 3. 4. 5. 6. 7. 8. 9.]\n"
     ]
    }
   ],
   "source": [
    "import numpy as np\n",
    "a=np.arange(10, dtype='float')\n",
    "print(a)"
   ]
  },
  {
   "cell_type": "markdown",
   "metadata": {},
   "source": [
    "La donnée membre shape retourne les dimensions du tableau sous la forme d'un tuple"
   ]
  },
  {
   "cell_type": "code",
   "execution_count": null,
   "metadata": {},
   "outputs": [],
   "source": [
    "print(a.shape)"
   ]
  },
  {
   "cell_type": "code",
   "execution_count": null,
   "metadata": {},
   "outputs": [],
   "source": [
    "M = np.zeros(shape=(2, 3))\n",
    "print(M)\n",
    "print('-'*20)\n",
    "tup = M.shape\n",
    "print(type(tup))\n",
    "Nrows, Ncols = tup\n",
    "print(Nrows, Ncols)"
   ]
  },
  {
   "cell_type": "markdown",
   "metadata": {},
   "source": [
    "Application des opérateurs de calcul arithmétique"
   ]
  },
  {
   "cell_type": "code",
   "execution_count": null,
   "metadata": {},
   "outputs": [],
   "source": [
    "print(a)\n",
    "a=a+1      # ajout de 1 à tous les elements\n",
    "print(a)\n",
    "print('-'*20)\n",
    "print(2*a) \n",
    "print(a*a) # carre de chaque element\n",
    "print(a/a) # division element par element  DANGER"
   ]
  },
  {
   "cell_type": "code",
   "execution_count": null,
   "metadata": {},
   "outputs": [],
   "source": [
    "a=np.array([0, 1, 2, 0, 2, 3, 5, 6, 6])\n",
    "print(a.shape)\n",
    "print(len(a))\n",
    "print('valeurs   : ', a.min(), ' ', a.max())\n",
    "print('positions : ', a.argmin(), ' ', a.argmax())"
   ]
  },
  {
   "cell_type": "markdown",
   "metadata": {},
   "source": [
    "Pour transformer une liste python en numpy.ndarray, on appelle le constructeur ndarray \n",
    "ou la fonction membre asarray"
   ]
  },
  {
   "cell_type": "code",
   "execution_count": null,
   "metadata": {},
   "outputs": [],
   "source": [
    "lst=list(range(10))\n",
    "print(lst)\n",
    "a=np.array(lst, dtype='float')\n",
    "print(a)\n",
    "a=np.asarray(lst, dtype='float') # plus efficace que le constructeur\n",
    "print(a)"
   ]
  },
  {
   "cell_type": "code",
   "execution_count": null,
   "metadata": {},
   "outputs": [],
   "source": [
    "a=np.linspace(0., 1., 10)\n",
    "print(a)\n",
    "print(len(a))"
   ]
  },
  {
   "cell_type": "code",
   "execution_count": null,
   "metadata": {},
   "outputs": [],
   "source": [
    "a=np.linspace(0., 1., 10, endpoint=False)\n",
    "print(a)\n",
    "print(len(a))\n",
    "help(np.linspace)"
   ]
  },
  {
   "cell_type": "code",
   "execution_count": null,
   "metadata": {},
   "outputs": [],
   "source": [
    "#help(np.linspace)"
   ]
  },
  {
   "cell_type": "markdown",
   "metadata": {},
   "source": [
    "# Tableau multidimensionnel\n",
    "But : création d'un tableau vide 2x2 "
   ]
  },
  {
   "cell_type": "code",
   "execution_count": 4,
   "metadata": {},
   "outputs": [
    {
     "name": "stdout",
     "output_type": "stream",
     "text": [
      "[[2.12199579e-314 4.67296746e-307]\n",
      " [6.22522714e-321 3.79442416e-321]]\n",
      "--------------\n",
      "(2, 2)\n",
      "--------------\n",
      "2\n"
     ]
    }
   ],
   "source": [
    "import numpy as np\n",
    "a=np.ndarray(shape=(2, 2)) # NON INITIALISE\n",
    "print(a) \n",
    "print('--------------')\n",
    "print(a.shape)\n",
    "print('--------------')\n",
    "print(a.ndim)"
   ]
  },
  {
   "cell_type": "code",
   "execution_count": 8,
   "metadata": {},
   "outputs": [
    {
     "name": "stdout",
     "output_type": "stream",
     "text": [
      "[[0. 0.]\n",
      " [0. 0.]]\n",
      "--------------------\n",
      "[[0. 0.]\n",
      " [0. 0.]]\n",
      "--------------------\n",
      "[[ 0.  0.]\n",
      " [ 0. -1.]]\n"
     ]
    }
   ],
   "source": [
    "a.fill(0)\n",
    "print(a)\n",
    "print('-'*20)\n",
    "a = np.zeros(shape=(2, 2), dtype=float)\n",
    "print(a)\n",
    "print('-'*20)\n",
    "\n",
    "a[1, 1]=-1\n",
    "print(a)"
   ]
  },
  {
   "cell_type": "code",
   "execution_count": 9,
   "metadata": {},
   "outputs": [
    {
     "name": "stdout",
     "output_type": "stream",
     "text": [
      "[[ 0.  0.]\n",
      " [ 0. -1.]]\n",
      "float64\n",
      "[[ 0.  0.]\n",
      " [ 0. -1.]]\n",
      "<class 'numpy.ndarray'>\n"
     ]
    }
   ],
   "source": [
    "print(a)\n",
    "del a   # supprime l'objet a\n",
    "\n",
    "a=np.empty(shape=(2, 2), dtype=float)\n",
    "print(a.dtype)\n",
    "print(a)\n",
    "print(type(a))"
   ]
  },
  {
   "cell_type": "code",
   "execution_count": null,
   "metadata": {},
   "outputs": [],
   "source": [
    "a=np.zeros(shape=(2, 2), dtype=float)\n",
    "print(a.dtype)\n",
    "print(a)\n",
    "print(type(a))"
   ]
  },
  {
   "cell_type": "markdown",
   "metadata": {},
   "source": [
    "bool\n",
    "Boolean (True or False) stored as a bit\n",
    "\n",
    "inti\n",
    "Platform integer (normally either int32 or int64)\n",
    "\n",
    "int8\n",
    "Byte (-128 to 127)\n",
    "\n",
    "int16\n",
    "Integer (-32768 to 32767)\n",
    "\n",
    "int32\n",
    "Integer (-2^31 to 2^31 -1)\n",
    "\n",
    "int64\n",
    "Integer (-2^63 to 2 ^ 63 -1)\n",
    "\n",
    "uint8\n",
    "Unsigned integer (0 to 255)\n",
    "\n",
    "uint16\n",
    "Unsigned integer (0 to 65535)\n",
    "\n",
    "uint32\n",
    "Unsigned integer (0 to 2 ^ 32 - 1)\n",
    "\n",
    "uint64\n",
    "Unsigned integer (0 to 2 ^ 64 - 1)\n",
    "\n",
    "float16\n",
    "Half precision float: sign bit, 5 bits exponent, 10 bits mantissa\n",
    "\n",
    "float32\n",
    "Single precision float: sign bit, 8 bits exponent, 23 bits mantissa\n",
    "\n",
    "float64 or float\n",
    "Double precision float: sign bit, 11 bits exponent, 52 bits mantissa\n",
    "\n",
    "complex64\n",
    "Complex number, represented by two 32-bit floats (real and imaginary components)\n",
    "\n",
    "complex128 or complex\n",
    "Complex number, represented by two 64-bit floats (real and imaginary components)"
   ]
  },
  {
   "cell_type": "code",
   "execution_count": null,
   "metadata": {},
   "outputs": [],
   "source": [
    "a.fill(1)\n",
    "print(a)"
   ]
  },
  {
   "cell_type": "code",
   "execution_count": null,
   "metadata": {},
   "outputs": [],
   "source": [
    "z = 2. + 3.j\n",
    "print(z)\n",
    "#help(z)\n",
    "print(abs(z))"
   ]
  },
  {
   "cell_type": "markdown",
   "metadata": {},
   "source": [
    "## vue d'un tableau"
   ]
  },
  {
   "cell_type": "code",
   "execution_count": 11,
   "metadata": {},
   "outputs": [
    {
     "name": "stdout",
     "output_type": "stream",
     "text": [
      "meme objet :  2461544643056  == 2461544643056\n",
      "[[0. 1.]\n",
      " [1. 1.]]\n",
      "--------------------\n",
      "[[0. 1.]\n",
      " [1. 1.]]\n"
     ]
    }
   ],
   "source": [
    "import numpy as np\n",
    "a=np.zeros(shape=(2, 2), dtype=float)\n",
    "a.fill(1)\n",
    "\n",
    "view=a  # ATTENTION shallow copy\n",
    "print('meme objet : ', id(a), ' ==', id(view))\n",
    "\n",
    "view[0, 0]=0  # modif de l'element [0, 0] de a !!!\n",
    "print(a)\n",
    "print('-'*20)\n",
    "print(view)"
   ]
  },
  {
   "cell_type": "code",
   "execution_count": 14,
   "metadata": {},
   "outputs": [
    {
     "name": "stdout",
     "output_type": "stream",
     "text": [
      "meme objet :  2461544643152  == 2461544643536\n",
      "[[1. 1.]\n",
      " [1. 1.]]\n",
      "--------------------\n",
      "[[0. 1.]\n",
      " [1. 1.]]\n"
     ]
    }
   ],
   "source": [
    "import numpy as np\n",
    "a=np.zeros(shape=(2, 2), dtype=float)\n",
    "a.fill(1)\n",
    "\n",
    "c=a.copy()  # deep copy\n",
    "print('meme objet : ', id(a), ' ==', id(c))\n",
    "\n",
    "c[0, 0]=0  # modif de l'element [0, 0] de c n'a pas d'impact sur a\n",
    "print(a)\n",
    "print('-'*20)\n",
    "print(c)"
   ]
  },
  {
   "cell_type": "markdown",
   "metadata": {},
   "source": [
    "# Comment savoir si un tableau numpy une copie ou une vue?\n",
    "Soit deux tableaux numpy a et b.\n",
    "a.base permet de savoir s'il a été construit à parti d'un autre objet de type numpy\n",
    "\n",
    "si b est une vue complète ou partielle de a alors b.base retourne a.\n",
    "\n",
    "Dans ce cas, b partage entièrement la mémoire de a. Ainsi np.shares_memory(a, b) retourne True.\n"
   ]
  },
  {
   "cell_type": "code",
   "execution_count": 18,
   "metadata": {},
   "outputs": [
    {
     "name": "stdout",
     "output_type": "stream",
     "text": [
      "a :  [0 1 2 3 4 5 6 7 8 9]\n",
      "a.base :  None\n",
      "il n'y a pas d'objet ayant servi à construire a\n",
      "a a servi à construire b\n",
      "\n",
      " === Partage mémoire ===\n",
      "a et b    True\n",
      "a et c    False\n",
      "b et c    False\n",
      "[   0    1    2 -100]\n",
      "[   0    1    2 -100    4    5    6    7    8    9]\n"
     ]
    }
   ],
   "source": [
    "import numpy as np\n",
    "a=np.arange(10)\n",
    "print('a : ', a)\n",
    "print('a.base : ', a.base) # Base object if memory is from some other object\n",
    "\n",
    "if a.base is None:\n",
    "    print(\"il n'y a pas d'objet ayant servi à construire a\")\n",
    "    \n",
    "b=a[0:4]\n",
    "if b.base is a:\n",
    "    print(\"a a servi à construire b\")\n",
    "    \n",
    "c=a[4:]\n",
    "\n",
    "c=a[4:].copy()\n",
    "if c.base is a:\n",
    "    print(\"a a servi à construire c\")\n",
    " \n",
    "print('\\n === Partage mémoire ===')\n",
    "\n",
    "print(\"a et b   \", np.shares_memory(a, b))\n",
    "print(\"a et c   \", np.shares_memory(a, c))\n",
    "print(\"b et c   \", np.shares_memory(b, c))\n",
    "\n",
    "#b[0]=-1\n",
    "#print(a)\n",
    "b[3]=-100\n",
    "print(b)\n",
    "print(a)"
   ]
  },
  {
   "cell_type": "markdown",
   "metadata": {},
   "source": [
    "# Découpage et indexage\n",
    "## cas unidimensionnel\n",
    "Le découpage (slicing) d'un tableau unidimensionnel NumPy est identique à celui d'une liste Python"
   ]
  },
  {
   "cell_type": "code",
   "execution_count": 19,
   "metadata": {},
   "outputs": [
    {
     "name": "stdout",
     "output_type": "stream",
     "text": [
      "[0 1 2 3 4 5 6 7 8 9]\n",
      "[3 4 5 6]\n",
      "[0 2 4 6]\n",
      "[9 8 7 6 5 4 3 2 1 0]\n",
      "[9 8 7 6 5 4 3 2 1 0]\n"
     ]
    }
   ],
   "source": [
    "import numpy as np\n",
    "a=np.arange(10)\n",
    "print(a)\n",
    "# extraction des elements du tableau d'indice dans [3, 7)\n",
    "print(a[3:7])  \n",
    " # extraction des elements avec un pas de 2 jusqu'a l'indice 8 exclu\n",
    "print(a[:8:2])  \n",
    "# renverse le tableau\n",
    "print(a[::-1])   \n",
    "print(a[-1::-1])"
   ]
  },
  {
   "cell_type": "markdown",
   "metadata": {},
   "source": [
    "## cas multidimensionnel"
   ]
  },
  {
   "cell_type": "code",
   "execution_count": 20,
   "metadata": {},
   "outputs": [
    {
     "name": "stdout",
     "output_type": "stream",
     "text": [
      "[[[ 0  1  2  3]\n",
      "  [ 4  5  6  7]\n",
      "  [ 8  9 10 11]]\n",
      "\n",
      " [[12 13 14 15]\n",
      "  [16 17 18 19]\n",
      "  [20 21 22 23]]]\n",
      "--------------\n",
      "(2, 3, 4)\n",
      "--------------\n",
      "3\n"
     ]
    }
   ],
   "source": [
    "# tableau unidimensionnel retransformé en tableau 2x3x4\n",
    "b=np.arange(24).reshape(2, 3, 4) \n",
    "print(b)\n",
    "print('--------------')\n",
    "print(b.shape)\n",
    "print('--------------')\n",
    "print(b.ndim)"
   ]
  },
  {
   "cell_type": "markdown",
   "metadata": {},
   "source": [
    "On obtient 2 paquets, chacun formé d'une matrice 3x4"
   ]
  },
  {
   "cell_type": "code",
   "execution_count": 21,
   "metadata": {},
   "outputs": [
    {
     "name": "stdout",
     "output_type": "stream",
     "text": [
      "[0 1 2 3]\n"
     ]
    }
   ],
   "source": [
    "# on selectionne l'element placé en [0, 0] de tous les paquets\n",
    "#view=b[:, 0, 0] \n",
    "#print(view)\n",
    "# dans le paquet 0, on selectionne la ligne 0 \n",
    "x=b[0, 0, :] \n",
    "print(x)\n",
    "# dans le paquet 0, on selectionne dans la ligne 1 en se déplaçant de 2 en 2\n",
    "#view=b[0, 1, ::2] \n",
    "#print(view)"
   ]
  },
  {
   "cell_type": "code",
   "execution_count": 22,
   "metadata": {},
   "outputs": [
    {
     "name": "stdout",
     "output_type": "stream",
     "text": [
      "b et x    True\n",
      "[0 1 2 3]\n",
      "[[[  0 188   2   3]\n",
      "  [  4   5   6   7]\n",
      "  [  8   9  10  11]]\n",
      "\n",
      " [[ 12  13  14  15]\n",
      "  [ 16  17  18  19]\n",
      "  [ 20  21  22  23]]]\n"
     ]
    }
   ],
   "source": [
    "x=b[0, 0, :] \n",
    "print(\"b et x   \", np.shares_memory(b, x))\n",
    "print(x)\n",
    "x[1] = 188\n",
    "print(b)"
   ]
  },
  {
   "cell_type": "code",
   "execution_count": null,
   "metadata": {},
   "outputs": [],
   "source": [
    "view=b[..., 1] # on selectionne la colonne 1 de tous les paquets\n",
    "print(view)\n",
    "print (view.base)\n",
    "\n",
    "z = view.copy()\n",
    "print(z.base)"
   ]
  },
  {
   "cell_type": "markdown",
   "metadata": {},
   "source": [
    "## Exercice sur le slicing\n",
    "Expliquer le comportement des cas suivants"
   ]
  },
  {
   "cell_type": "code",
   "execution_count": 24,
   "metadata": {},
   "outputs": [
    {
     "name": "stdout",
     "output_type": "stream",
     "text": [
      "[[[  0 188   2   3]\n",
      "  [  4   5   6   7]\n",
      "  [  8   9  10  11]]\n",
      "\n",
      " [[ 12  13  14  15]\n",
      "  [ 16  17  18  19]\n",
      "  [ 20  21  22  23]]]\n",
      "--------------------\n",
      "[23 19 15]\n",
      "[11  7  3]\n",
      "[ 3  7 11]\n"
     ]
    }
   ],
   "source": [
    "print(b)\n",
    "print('-'*20)\n",
    "view=b[-1, ::-1, -1]\n",
    "print(view)\n",
    "view=b[0, ::-1, -1]\n",
    "print(view)\n",
    "view=b[0, :, -1]\n",
    "print(view)"
   ]
  },
  {
   "cell_type": "markdown",
   "metadata": {},
   "source": [
    "# Applatissage de tableaux (array flattening)"
   ]
  },
  {
   "cell_type": "code",
   "execution_count": null,
   "metadata": {},
   "outputs": [],
   "source": [
    "b=np.arange(24).reshape(2, 3, 4)\n",
    "\n",
    "flat_nd_copy=b.flatten()\n",
    "print(flat_nd_copy)\n",
    "flat_nd_copy[0]=-1\n",
    "print(b)\n",
    "print('------------------------------')\n",
    "flat=b.ravel()  # nouvelle vue\n",
    "print(flat)\n",
    "\n",
    "flat[0]=-1  # modifie b\n",
    "print(b)"
   ]
  },
  {
   "cell_type": "markdown",
   "metadata": {},
   "source": [
    "# Concaténation de tableaux\n",
    "Soient 2 tableaux A et B, comportant le même nombre de ligne, on désire construire le tableau augmenté A | B"
   ]
  },
  {
   "cell_type": "code",
   "execution_count": 25,
   "metadata": {},
   "outputs": [
    {
     "name": "stdout",
     "output_type": "stream",
     "text": [
      "2461544641616\n",
      "2461544974352\n",
      "[[ 0  1  2  3 10 11 12 13]\n",
      " [ 4  5  6  7 14 15 16 17]\n",
      " [ 8  9 10 11 18 19 20 21]]\n"
     ]
    }
   ],
   "source": [
    "A=np.arange(12).reshape(3, 4)\n",
    "B = A.copy()\n",
    "B=B+10\n",
    "print(id(A))\n",
    "print(id(B))\n",
    "S=np.hstack((A, B))\n",
    "print(S)"
   ]
  },
  {
   "cell_type": "markdown",
   "metadata": {},
   "source": [
    "Autre approche avec np.concatenate"
   ]
  },
  {
   "cell_type": "code",
   "execution_count": null,
   "metadata": {},
   "outputs": [],
   "source": [
    "np.concatenate((A, B), axis=1)"
   ]
  },
  {
   "cell_type": "markdown",
   "metadata": {},
   "source": [
    "Généralisation suivant les autres directions"
   ]
  },
  {
   "cell_type": "code",
   "execution_count": null,
   "metadata": {},
   "outputs": [],
   "source": [
    "A=np.arange(12).reshape(3, 4)\n",
    "B=A\n",
    "S=np.vstack((A, B))\n",
    "print(S)\n",
    "print('------------------')\n",
    "S=np.dstack((A, B))\n",
    "print(S)"
   ]
  },
  {
   "cell_type": "markdown",
   "metadata": {
    "collapsed": true,
    "jupyter": {
     "outputs_hidden": true
    }
   },
   "source": [
    "## zero-padding - rolling"
   ]
  },
  {
   "cell_type": "code",
   "execution_count": null,
   "metadata": {},
   "outputs": [],
   "source": [
    "A=np.arange(12).reshape(3, 4)\n",
    "A=A+1\n",
    "print(A)\n",
    "print(type(A))"
   ]
  },
  {
   "cell_type": "code",
   "execution_count": null,
   "metadata": {},
   "outputs": [],
   "source": [
    "lx=A.shape[0]\n",
    "ly=A.shape[1]\n",
    "A=np.pad(A, ((0, lx), (0, ly)), mode='constant') # (before, after)\n",
    "print(A)\n",
    "print('----------------------------')\n",
    "A=np.roll(A, +ly//2, axis=1)\n",
    "print(A)"
   ]
  },
  {
   "cell_type": "markdown",
   "metadata": {},
   "source": [
    "Application du zero padding dans le calcul de produit de convolution"
   ]
  },
  {
   "cell_type": "markdown",
   "metadata": {},
   "source": [
    "#  création d'une matrice\n",
    "La classe matrix dérive de la classe ndarray"
   ]
  },
  {
   "cell_type": "code",
   "execution_count": null,
   "metadata": {},
   "outputs": [],
   "source": [
    "A=np.matrix([[0, 1], [2, 3]])\n",
    "print(type(A))\n",
    "\n",
    "M=np.asmatrix(np.diag([2, 1]))\n",
    "print(M)\n",
    "print(type(M))"
   ]
  },
  {
   "cell_type": "markdown",
   "metadata": {},
   "source": [
    "Création d'un vecteur"
   ]
  },
  {
   "cell_type": "code",
   "execution_count": null,
   "metadata": {},
   "outputs": [],
   "source": [
    "print(A)\n",
    "V=np.matrix([0, 1]).transpose()\n",
    "print(V)\n",
    "print('-'*30)\n",
    "print(A*V)\n"
   ]
  }
 ],
 "metadata": {
  "anaconda-cloud": {},
  "kernelspec": {
   "display_name": "Python 3 (ipykernel)",
   "language": "python",
   "name": "python3"
  },
  "language_info": {
   "codemirror_mode": {
    "name": "ipython",
    "version": 3
   },
   "file_extension": ".py",
   "mimetype": "text/x-python",
   "name": "python",
   "nbconvert_exporter": "python",
   "pygments_lexer": "ipython3",
   "version": "3.12.7"
  }
 },
 "nbformat": 4,
 "nbformat_minor": 4
}
