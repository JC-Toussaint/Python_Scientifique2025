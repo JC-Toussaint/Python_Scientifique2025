{
 "cells": [
  {
   "cell_type": "markdown",
   "metadata": {},
   "source": [
    "## Matplotlib"
   ]
  },
  {
   "cell_type": "markdown",
   "metadata": {},
   "source": [
    "# contour\n",
    "On désire tracer les isovaleurs d'une fonction à 2 variables dans le plan projeté (x,y)"
   ]
  },
  {
   "cell_type": "code",
   "execution_count": null,
   "metadata": {},
   "outputs": [],
   "source": [
    "%matplotlib inline\n",
    "import numpy as np\n",
    "from mpl_toolkits.mplot3d import axes3d\n",
    "import matplotlib.pyplot as plt\n",
    "from matplotlib import cm\n",
    "\n",
    "Nx=10\n",
    "x=np.linspace(0, 1, Nx)\n",
    "\n",
    "Ny=10\n",
    "y=np.linspace(0, 2, Ny)\n",
    "\n",
    "X, Y = np.meshgrid(x, y)\n",
    "Z=X*X+Y*Y\n",
    "\n",
    "fig = plt.figure(figsize=(5, 5))\n",
    "#ax = fig.add_subplot(111, projection='3d')\n",
    "#ax = fig.add_subplot(111)\n",
    "\n",
    "#cset = ax.contour(X, Y, Z, cmap=cm.coolwarm)\n",
    "cset = plt.contour(X, Y, Z, cmap=cm.jet)\n",
    "#plt.clabel(cset, fontsize=9, inline=1)\n",
    "plt.colorbar()\n",
    "plt.show()"
   ]
  },
  {
   "cell_type": "markdown",
   "metadata": {},
   "source": [
    "puis tracer les isovaleurs d'une fonction à 2 variables en 3D et dans le plan projeté (x,y)"
   ]
  },
  {
   "cell_type": "code",
   "execution_count": null,
   "metadata": {},
   "outputs": [],
   "source": [
    "#%matplotlib inline\n",
    "import numpy as np\n",
    "import matplotlib.pyplot as plt\n",
    "from matplotlib import cm\n",
    "\n",
    "plt.close('all') #efface fenêtre graphique\n",
    "\n",
    "Nx = 10\n",
    "x = np.linspace(0, 1, Nx)\n",
    "Ny = 10\n",
    "y = np.linspace(0, 2, Ny)\n",
    "X, Y = np.meshgrid(x, y)\n",
    "Z = X*X + Y*Y\n",
    "\n",
    "# Créer une figure plus large pour accommoder les deux subplots\n",
    "fig = plt.figure(figsize=(12, 5))\n",
    "\n",
    "# Subplot 1: Contour 3D\n",
    "ax = fig.add_subplot(121, projection='3d')\n",
    "# Pour les contours 3D, utiliser contour3D au lieu de contour\n",
    "cset = ax.contour3D(X, Y, Z, levels=15, cmap=cm.jet)\n",
    "ax.set_xlabel('X')\n",
    "ax.set_ylabel('Y')\n",
    "ax.set_zlabel('Z')\n",
    "ax.set_title('Contour 3D')\n",
    "\n",
    "# Subplot 2: Contour 2D\n",
    "ax2 = fig.add_subplot(122)\n",
    "cset2 = ax2.contour(X, Y, Z, levels=15, cmap=cm.jet)\n",
    "ax2.clabel(cset2, fontsize=9, inline=True)\n",
    "ax2.grid(True)\n",
    "ax2.set_xlabel('X')\n",
    "ax2.set_ylabel('Y')\n",
    "ax2.set_title('Contour 2D')\n",
    "ax2.set_aspect('equal')  # Garder les proportions\n",
    "\n",
    "# Colorbar pour le plot 2D\n",
    "fig.colorbar(cset2, ax=ax2, shrink=0.8, aspect=20)\n",
    "\n",
    "plt.tight_layout()  # Éviter les chevauchements\n",
    "plt.show()\n"
   ]
  },
  {
   "cell_type": "markdown",
   "metadata": {},
   "source": [
    "## Version alternative avec surface 3D + contour 2D"
   ]
  },
  {
   "cell_type": "code",
   "execution_count": null,
   "metadata": {},
   "outputs": [],
   "source": [
    "# ============================================\n",
    "# Version alternative avec surface 3D + contour 2D\n",
    "# ============================================\n",
    "\n",
    "plt.close('all') #efface fenêtre graphique\n",
    "fig2 = plt.figure(figsize=(12, 5))\n",
    "\n",
    "# Subplot 1: Surface 3D avec contours projetés\n",
    "ax3 = fig2.add_subplot(121, projection='3d')\n",
    "surf = ax3.plot_surface(X, Y, Z, cmap=cm.jet, alpha=0.8)\n",
    "# Ajouter des contours projetés sur le plan\n",
    "ax3.contour(X, Y, Z, zdir='z', offset=Z.min(), cmap=cm.jet, alpha=0.6)\n",
    "ax3.set_xlabel('X')\n",
    "ax3.set_ylabel('Y')\n",
    "ax3.set_zlabel('Z')\n",
    "ax3.set_title('Surface 3D + Contours projetés')\n",
    "\n",
    "# Subplot 2: Contour rempli 2D\n",
    "ax4 = fig2.add_subplot(122)\n",
    "cset3 = ax4.contourf(X, Y, Z, levels=20, cmap=cm.jet)\n",
    "contour_lines = ax4.contour(X, Y, Z, levels=20, colors='black', linewidths=0.5)\n",
    "ax4.clabel(contour_lines, fontsize=8, inline=True)\n",
    "ax4.set_xlabel('X')\n",
    "ax4.set_ylabel('Y')\n",
    "ax4.set_title('Contour rempli 2D')\n",
    "ax4.set_aspect('equal')\n",
    "\n",
    "# Colorbar pour la surface\n",
    "fig2.colorbar(surf, ax=ax3, shrink=0.5, aspect=10)\n",
    "fig2.colorbar(cset3, ax=ax4, shrink=0.8, aspect=20)\n",
    "\n",
    "plt.tight_layout()\n",
    "plt.show()\n",
    "\n"
   ]
  },
  {
   "cell_type": "code",
   "execution_count": null,
   "metadata": {},
   "outputs": [],
   "source": [
    "# ============================================\n",
    "# Version avec contours 3D \"vrais\" (isosurfaces)\n",
    "# ============================================\n",
    "\n",
    "# Créer une grille 3D plus dense pour les isosurfaces\n",
    "Nx3d, Ny3d, Nz3d = 20, 20, 20\n",
    "x3d = np.linspace(0, 1, Nx3d)\n",
    "y3d = np.linspace(0, 2, Ny3d)\n",
    "z3d = np.linspace(0, 3, Nz3d)\n",
    "X3d, Y3d, Z3d = np.meshgrid(x3d, y3d, z3d)\n",
    "V = X3d**2 + Y3d**2 + Z3d**2  # Fonction 3D\n",
    "\n",
    "fig3 = plt.figure(figsize=(10, 8))\n",
    "ax5 = fig3.add_subplot(111, projection='3d')\n",
    "\n",
    "# Tracer quelques isosurfaces\n",
    "from mpl_toolkits.mplot3d.art3d import Poly3DCollection\n",
    "# Simplification: tracer des sphères de différents rayons\n",
    "u = np.linspace(0, 2 * np.pi, 30)\n",
    "v = np.linspace(0, np.pi, 20)\n",
    "for r in [0.5, 1.0, 1.5]:\n",
    "    x_sphere = r * np.outer(np.cos(u), np.sin(v))\n",
    "    y_sphere = r * np.outer(np.sin(u), np.sin(v))\n",
    "    z_sphere = r * np.outer(np.ones(np.size(u)), np.cos(v))\n",
    "    ax5.plot_surface(x_sphere, y_sphere, z_sphere, alpha=0.3, cmap=cm.jet)\n",
    "\n",
    "ax5.set_xlabel('X')\n",
    "ax5.set_ylabel('Y')\n",
    "ax5.set_zlabel('Z')\n",
    "ax5.set_title('Isosurfaces 3D')\n",
    "\n",
    "plt.show()"
   ]
  },
  {
   "cell_type": "markdown",
   "metadata": {},
   "source": [
    "# surface 3D\n",
    "La librairie Matplotlib reste essentiellement une librairie 2D\n",
    "et ne comporte donc pas un moteur 3D comme dans Matlab.\n",
    "Gérer les éclairages n'est pas immédiat."
   ]
  },
  {
   "cell_type": "code",
   "execution_count": null,
   "metadata": {},
   "outputs": [],
   "source": [
    "#%matplotlib inline\n",
    "import numpy as np\n",
    "from mpl_toolkits.mplot3d import axes3d\n",
    "import matplotlib.pyplot as plt\n",
    "from matplotlib import cm\n",
    "\n",
    "X = np.arange(-5, 5, 0.25)\n",
    "Y = np.arange(-5, 5, 0.25)\n",
    "X, Y = np.meshgrid(X, Y)\n",
    "R = np.sqrt(X**2 + Y**2)\n",
    "Z = np.sin(R)\n",
    "\n",
    "fig = plt.figure(figsize=(5, 5))\n",
    "ax = fig.add_subplot(111, projection='3d')\n",
    "#ax = fig.add_subplot(111)\n",
    "\n",
    "cset = plt.contour(X, Y, Z, cmap=cm.jet)\n",
    "ax.plot_surface(X, Y, Z, rstride=1, cstride=1,  cmap=cm.jet, linewidth=0)\n",
    "ax.grid(True)\n",
    "plt.clabel(cset, fontsize=9, inline=1)\n",
    "#plt.colorbar()\n",
    "plt.show()\n",
    "\n"
   ]
  },
  {
   "cell_type": "markdown",
   "metadata": {},
   "source": [
    "Raffiner le maillage"
   ]
  }
 ],
 "metadata": {
  "anaconda-cloud": {},
  "kernelspec": {
   "display_name": "Python 3 (ipykernel)",
   "language": "python",
   "name": "python3"
  },
  "language_info": {
   "codemirror_mode": {
    "name": "ipython",
    "version": 3
   },
   "file_extension": ".py",
   "mimetype": "text/x-python",
   "name": "python",
   "nbconvert_exporter": "python",
   "pygments_lexer": "ipython3",
   "version": "3.12.7"
  },
  "vscode": {
   "interpreter": {
    "hash": "4779869340046f4982f813b309a249d56df26ceadb130360b43811cfe65d93fd"
   }
  }
 },
 "nbformat": 4,
 "nbformat_minor": 4
}
