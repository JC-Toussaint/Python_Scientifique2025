{
 "cells": [
  {
   "cell_type": "markdown",
   "metadata": {},
   "source": [
    "## factorisation LU\n",
    "On se propose d'implémenter la méthode de décomposition LU avec changement de pivot\n",
    "\n",
    "La classe  numpy.ndarray permet de créer des tableaux multi-dimensionnels. \n",
    "\n",
    "* En particulier, on notera que l'opérateur * définit une multiplication du type élément par élément (element-wise multiplication)\n",
    "* Pour des tableaux bidimensionnels pouvant stocker des matrices et des vecteurs, l'opérateur @ sert à faire la multiplication matricielle.\n",
    "\n",
    "La classe numpy.matrix dérive de la classe  numpy.ndarray mais est considérée comme obsolète."
   ]
  },
  {
   "cell_type": "code",
   "execution_count": null,
   "metadata": {},
   "outputs": [],
   "source": [
    "# A : matrice a factoriser de dim nxn  \n",
    "import numpy as np\n",
    "np.set_printoptions(precision=4, suppress=True)\n",
    "\n",
    "def LU(A):\n",
    "    \"\"\"factorisation LU avec pivot\"\"\"\n",
    "    assert A.shape[0]==A.shape[1], 'not a square matrix' \n",
    "    n=A.shape[0]\n",
    "    PL=np.eye(n, n) # Matrice Identite\n",
    "    P =np.eye(n, n)\n",
    "    Lp=np.eye(n, n)\n",
    "    \n",
    "# A COMPLETER\n",
    "    return P, L, U\n",
    "\n",
    "A=np.array([[10, -7, 0], [-3, 2, 6], [5, -1, 5]], dtype=float)  \n",
    "P, L, U = LU(A)\n",
    "\n",
    "print('P ---------')\n",
    "print(P)\n",
    "\n",
    "print('L-----------')\n",
    "print(L)\n",
    "print('U-----------')\n",
    "print(U)\n"
   ]
  },
  {
   "cell_type": "code",
   "execution_count": null,
   "metadata": {},
   "outputs": [],
   "source": [
    "help(LU)"
   ]
  }
 ],
 "metadata": {
  "anaconda-cloud": {},
  "kernelspec": {
   "display_name": "Python 3 (ipykernel)",
   "language": "python",
   "name": "python3"
  },
  "language_info": {
   "codemirror_mode": {
    "name": "ipython",
    "version": 3
   },
   "file_extension": ".py",
   "mimetype": "text/x-python",
   "name": "python",
   "nbconvert_exporter": "python",
   "pygments_lexer": "ipython3",
   "version": "3.12.7"
  }
 },
 "nbformat": 4,
 "nbformat_minor": 4
}
